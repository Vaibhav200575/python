{
  "cells": [
    {
      "cell_type": "markdown",
      "metadata": {
        "id": "view-in-github",
        "colab_type": "text"
      },
      "source": [
        "<a href=\"https://colab.research.google.com/github/Vaibhav200575/python/blob/main/Base_Python_Programming_Exercise_(1).ipynb\" target=\"_parent\"><img src=\"https://colab.research.google.com/assets/colab-badge.svg\" alt=\"Open In Colab\"/></a>"
      ]
    },
    {
      "cell_type": "markdown",
      "metadata": {
        "id": "B-_AysxjxTwQ"
      },
      "source": [
        "## Python Basic Programming Exercises"
      ]
    },
    {
      "cell_type": "raw",
      "metadata": {
        "id": "w8KZVVxHxTwS"
      },
      "source": [
        "Q1: What is the output of following expression\n",
        "    5 + 4 * 9 % (3 + 1) / 6 - 1"
      ]
    },
    {
      "cell_type": "code",
      "execution_count": null,
      "metadata": {
        "colab": {
          "base_uri": "https://localhost:8080/"
        },
        "id": "oRLGSnJRxTwS",
        "outputId": "2be405ff-ccb3-4881-cc25-c1db1240f7c4"
      },
      "outputs": [
        {
          "output_type": "stream",
          "name": "stdout",
          "text": [
            "4.0\n"
          ]
        }
      ],
      "source": [
        "print(5 + 4 * 9 % (3 + 1) / 6 - 1)"
      ]
    },
    {
      "cell_type": "raw",
      "metadata": {
        "id": "QSWha314xTwT"
      },
      "source": [
        "Q2: Write a program to check if a Number is Odd or Even. Take number as a input\n",
        "\n",
        "from user at runtime."
      ]
    },
    {
      "cell_type": "code",
      "execution_count": null,
      "metadata": {
        "colab": {
          "base_uri": "https://localhost:8080/"
        },
        "id": "S4CeK7T3xTwT",
        "outputId": "9434f633-f788-476f-b315-bd699a763d76"
      },
      "outputs": [
        {
          "output_type": "stream",
          "name": "stdout",
          "text": [
            "enter the no57\n",
            "given number is odd number\n"
          ]
        }
      ],
      "source": [
        "n=int(input(\"enter the no\"))\n",
        "if(n%2==0):\n",
        "  print(\"given number is even number\")\n",
        "else:\n",
        "  print(\"given number is odd number\")"
      ]
    },
    {
      "cell_type": "markdown",
      "source": [
        "Q3. Write a program to multiplication table by taking a number as input. Hint[:Use print statement inside of a loop"
      ],
      "metadata": {
        "id": "bRl4fQYJZft8"
      }
    },
    {
      "cell_type": "code",
      "execution_count": null,
      "metadata": {
        "colab": {
          "base_uri": "https://localhost:8080/"
        },
        "id": "Hv4k8dPDxTwT",
        "outputId": "55dcbf20-82de-495c-bf25-49e25111048c"
      },
      "outputs": [
        {
          "output_type": "stream",
          "name": "stdout",
          "text": [
            "enter the number6\n",
            "6\n",
            "12\n",
            "18\n",
            "24\n",
            "30\n",
            "36\n",
            "42\n",
            "48\n",
            "54\n",
            "60\n"
          ]
        }
      ],
      "source": [
        "n=int(input(\"enter the number\"))\n",
        "for i in range(1,11):\n",
        "  print(i*n)"
      ]
    },
    {
      "cell_type": "raw",
      "metadata": {
        "id": "I_3wdaSuxTwT"
      },
      "source": [
        "Q4: Write a program which will find all numbers between 2000 and 3200 which are\n",
        "divisible by 7but are not a multiple of 5.\n",
        "Note: The numbers obtained should be printed in a comma-separated sequence on a single line."
      ]
    },
    {
      "cell_type": "code",
      "execution_count": null,
      "metadata": {
        "colab": {
          "base_uri": "https://localhost:8080/"
        },
        "id": "McdbhjQqxTwU",
        "outputId": "b0852271-ff61-4ff6-c09d-00adad5f81f9"
      },
      "outputs": [
        {
          "output_type": "stream",
          "name": "stdout",
          "text": [
            "[2002, 2009, 2016, 2023, 2037, 2044, 2051, 2058, 2072, 2079, 2086, 2093, 2107, 2114, 2121, 2128, 2142, 2149, 2156, 2163, 2177, 2184, 2191, 2198, 2212, 2219, 2226, 2233, 2247, 2254, 2261, 2268, 2282, 2289, 2296, 2303, 2317, 2324, 2331, 2338, 2352, 2359, 2366, 2373, 2387, 2394, 2401, 2408, 2422, 2429, 2436, 2443, 2457, 2464, 2471, 2478, 2492, 2499, 2506, 2513, 2527, 2534, 2541, 2548, 2562, 2569, 2576, 2583, 2597, 2604, 2611, 2618, 2632, 2639, 2646, 2653, 2667, 2674, 2681, 2688, 2702, 2709, 2716, 2723, 2737, 2744, 2751, 2758, 2772, 2779, 2786, 2793, 2807, 2814, 2821, 2828, 2842, 2849, 2856, 2863, 2877, 2884, 2891, 2898, 2912, 2919, 2926, 2933, 2947, 2954, 2961, 2968, 2982, 2989, 2996, 3003, 3017, 3024, 3031, 3038, 3052, 3059, 3066, 3073, 3087, 3094, 3101, 3108, 3122, 3129, 3136, 3143, 3157, 3164, 3171, 3178, 3192, 3199]\n"
          ]
        }
      ],
      "source": [
        "a=[]\n",
        "for i in range(2000,3200):\n",
        "   if(i%7==0 and i%5!=0):\n",
        "         a.append(i)\n",
        "print(a)"
      ]
    },
    {
      "cell_type": "raw",
      "metadata": {
        "id": "sA_2fr2ixTwU"
      },
      "source": [
        "Q5: Count the elements of each datatype inside the list and display in output\n",
        "\n",
        "---\n",
        "\n",
        "\n",
        "\n",
        "---\n",
        "\n",
        "\n",
        "    [2, 3, 'Py', '10', 1, 'SQL', 5.5, True, 3, 'John', None, 7]"
      ]
    },
    {
      "cell_type": "code",
      "execution_count": null,
      "metadata": {
        "colab": {
          "base_uri": "https://localhost:8080/"
        },
        "id": "r8Q74LTbxTwU",
        "outputId": "e7f989dd-b59c-4206-c10f-5c033a3f17ca"
      },
      "outputs": [
        {
          "output_type": "stream",
          "name": "stdout",
          "text": [
            "number of str data type elements is: 4\n",
            "number of int data type elements is: 5\n",
            "number of bool data type elements is: 1\n",
            "number of float data type elements is: 1\n",
            "number of NoneType data type elements is: 1\n"
          ]
        }
      ],
      "source": [
        "from types import NoneType\n",
        "a=[2, 3, 'Py', '10', 1, 'SQL', 5.5, True, 3, 'John', None, 7]\n",
        "c=len(a)\n",
        "n=0\n",
        "m=0\n",
        "s=0\n",
        "k=0\n",
        "l=0\n",
        "for i in range(0,12):\n",
        "        d=type(a[i])\n",
        "        if(d==int):\n",
        "           n+=1\n",
        "        elif(d==float):\n",
        "           m+=1\n",
        "        elif(d==bool):\n",
        "          s+=1\n",
        "        elif(d==str):\n",
        "          k+=1\n",
        "        elif(d==NoneType):\n",
        "          l+=1\n",
        "print(\"number of str data type elements is:\",k)\n",
        "print(\"number of int data type elements is:\",n)\n",
        "print(\"number of bool data type elements is:\",s)\n",
        "print(\"number of float data type elements is:\",m)\n",
        "print(\"number of NoneType data type elements is:\",l)"
      ]
    },
    {
      "cell_type": "raw",
      "metadata": {
        "id": "HDnGu-msxTwU"
      },
      "source": [
        "Q6: Add all values from the list with numeric datatypes\n",
        "\n",
        "---\n",
        "\n",
        "\n",
        "\n",
        "---\n",
        "\n",
        "\n",
        "    [2, 3, 'Py', '10', 1, 'SQL', 5.5, True, 3, 'John', None, 7]"
      ]
    },
    {
      "cell_type": "code",
      "execution_count": null,
      "metadata": {
        "colab": {
          "base_uri": "https://localhost:8080/"
        },
        "id": "dFVgMQEMxTwU",
        "outputId": "81519aa0-509d-48be-91d8-4a15d19cf9c1"
      },
      "outputs": [
        {
          "output_type": "stream",
          "name": "stdout",
          "text": [
            "Sum of numeric values: 21.5\n"
          ]
        }
      ],
      "source": [
        "data = [2, 3, 'Py', '10', 1, 'SQL', 5.5, True, 3, 'John', None, 7]\n",
        "\n",
        "\n",
        "numeric_sum = sum(item for item in data if isinstance(item, (int, float)) and not isinstance(item, bool))\n",
        "\n",
        "print(\"Sum of numeric values:\", numeric_sum)"
      ]
    },
    {
      "cell_type": "raw",
      "metadata": {
        "id": "anhSlVOYxTwU"
      },
      "source": [
        "Q7: Concat all str datatypes with hyphen as a delimiter\n",
        "    [2, 3, 'Py', '10', 1, 'SQL', 5.5, True, 3, 'John', None, 7]"
      ]
    },
    {
      "cell_type": "code",
      "execution_count": null,
      "metadata": {
        "id": "tTZ5yuuQxTwU",
        "colab": {
          "base_uri": "https://localhost:8080/"
        },
        "outputId": "f01a8934-3d95-4df8-8f42-e4f0d1be88b0"
      },
      "outputs": [
        {
          "output_type": "stream",
          "name": "stdout",
          "text": [
            "Concatenated string: Py-10-SQL-John\n"
          ]
        }
      ],
      "source": [
        "data = [2, 3, 'Py', '10', 1, 'SQL', 5.5, True, 3, 'John', None, 7]\n",
        "\n",
        "\n",
        "string_concat = '-'.join(item for item in data if isinstance(item, str))\n",
        "\n",
        "print(\"Concatenated string:\", string_concat)"
      ]
    },
    {
      "cell_type": "markdown",
      "source": [
        " Q8:Get only odd numbers from the following list and store the numbers in new list li = [5, 7, 22, 97, 54, 62, 77, 23, 73, 61]"
      ],
      "metadata": {
        "id": "saeaapmaastR"
      }
    },
    {
      "cell_type": "code",
      "source": [
        "li = [5, 7, 22, 97, 54, 62, 77, 23, 73, 61]\n",
        "c=len(li)\n",
        "a=[]\n",
        "for i in range(0,c):\n",
        "     if(li[i]%2!=0):\n",
        "       a.append(li[i])\n",
        "print(a)"
      ],
      "metadata": {
        "colab": {
          "base_uri": "https://localhost:8080/"
        },
        "id": "_JPAqWRsbYE9",
        "outputId": "d3f55dc1-7926-48fb-b350-de19a625c8cf"
      },
      "execution_count": null,
      "outputs": [
        {
          "output_type": "stream",
          "name": "stdout",
          "text": [
            "[5, 7, 97, 77, 23, 73, 61]\n"
          ]
        }
      ]
    },
    {
      "cell_type": "raw",
      "metadata": {
        "id": "ziFwHqX0xTwV"
      },
      "source": [
        "Q9: Write an udf to calculate the area of different shapes\n",
        "\n",
        "---\n",
        "\n",
        "\n",
        "\n",
        "Take shape and dimensions as arguments to udf as follows :\n",
        "\n",
        "1. square which has side\n",
        "2. rectangle which has length and width\n",
        "3. circle which has radius\n",
        "\n",
        "The shape should be a positional argument and it's dimensions are taken as kwargs\n",
        "\n",
        "Perform proper validation for the user inputs and then calculate area.\n",
        "\n",
        "E.g. if shape is square, ensure kwargs has \"side\" and if so, then you may return the area, else display appropriate error message like \"Please enter 'side' for a square\""
      ]
    },
    {
      "cell_type": "code",
      "execution_count": null,
      "metadata": {
        "id": "XKXXgVkrxTwV",
        "colab": {
          "base_uri": "https://localhost:8080/"
        },
        "outputId": "7a8e4650-cd2a-4862-9dbb-a1bb49a6976a"
      },
      "outputs": [
        {
          "output_type": "stream",
          "name": "stdout",
          "text": [
            "25\n",
            "24\n",
            "28.27431\n",
            "Invalid shape.\n",
            "Invalid side length for square.\n"
          ]
        }
      ],
      "source": [
        "\n",
        "def calculate_area(shape, **kwargs):\n",
        "    if shape == 'square':\n",
        "        side = kwargs.get('side')\n",
        "        if side is None or not isinstance(side, (int, float)) or side <= 0:\n",
        "            return \"Invalid side length for square.\"\n",
        "        return side ** 2\n",
        "\n",
        "    elif shape == 'rectangle':\n",
        "        length = kwargs.get('length')\n",
        "        width = kwargs.get('width')\n",
        "        if (length is None or not isinstance(length, (int, float)) or length <= 0 or\n",
        "            width is None or not isinstance(width, (int, float)) or width <= 0):\n",
        "            return \"Invalid dimensions for rectangle.\"\n",
        "        return length * width\n",
        "\n",
        "    elif shape == 'circle':\n",
        "        radius = kwargs.get('radius')\n",
        "        if radius is None or not isinstance(radius, (int, float)) or radius <= 0:\n",
        "            return \"Invalid radius for circle.\"\n",
        "        return 3.14159 * (radius ** 2)\n",
        "\n",
        "    else:\n",
        "        return \"Invalid shape.\"\n",
        "\n",
        "print(calculate_area('square', side=5))\n",
        "print(calculate_area('rectangle', length=4, width=6))\n",
        "print(calculate_area('circle', radius=3))\n",
        "print(calculate_area('triangle', base=5, height=10))\n",
        "print(calculate_area('square', side=-2))"
      ]
    },
    {
      "cell_type": "raw",
      "metadata": {
        "collapsed": true,
        "jupyter": {
          "outputs_hidden": true
        },
        "id": "VEjrC58HxTwV"
      },
      "source": [
        "Q10: write a UDF to check if a number is prime or not.\n",
        "\n",
        "---\n",
        "\n",
        "\n",
        "\n",
        "---"
      ]
    },
    {
      "cell_type": "code",
      "source": [
        "def is_prime(number):\n",
        "\n",
        "    if not isinstance(number, int) or number <= 1:\n",
        "        return False\n",
        "\n",
        "\n",
        "    for i in range(2, int(number ** 0.5) + 1):\n",
        "        if number % i == 0:\n",
        "            return False\n",
        "            return True\n",
        "\n",
        "\n",
        "num = int(input(\"Enter a number: \"))\n",
        "if is_prime(num):\n",
        "    print(f\"{num} is a prime number.\")\n",
        "else:\n",
        "    print(f\"{num} is not a prime number.\")"
      ],
      "metadata": {
        "colab": {
          "base_uri": "https://localhost:8080/"
        },
        "id": "zV7o4M3aQQ1Z",
        "outputId": "d3ca02ec-9c8e-44e4-b5c9-67a28d6badd8"
      },
      "execution_count": null,
      "outputs": [
        {
          "output_type": "stream",
          "name": "stdout",
          "text": [
            "Enter a number: 14\n",
            "14 is not a prime number.\n"
          ]
        }
      ]
    },
    {
      "cell_type": "raw",
      "metadata": {
        "collapsed": true,
        "jupyter": {
          "outputs_hidden": true
        },
        "id": "bIU159uwxTwV"
      },
      "source": [
        "Q11. Write a program that takes a string and returns reversed string. i.e. if input is \"abcd123\" output should be \"321dcba\""
      ]
    },
    {
      "cell_type": "code",
      "execution_count": null,
      "metadata": {
        "id": "GUGwFIY9xTwV",
        "colab": {
          "base_uri": "https://localhost:8080/"
        },
        "outputId": "4e636f71-82fd-46f7-e380-62fb411766e2"
      },
      "outputs": [
        {
          "output_type": "stream",
          "name": "stdout",
          "text": [
            "enter the string\"abcd123\"\n",
            "\"321dcba\"\n"
          ]
        }
      ],
      "source": [
        "n=input(\"enter the string\")\n",
        "print(n[::-1])\n",
        "\n",
        "\n",
        "\n",
        "\n"
      ]
    }
  ],
  "metadata": {
    "kernelspec": {
      "display_name": "Python 3 (ipykernel)",
      "language": "python",
      "name": "python3"
    },
    "language_info": {
      "codemirror_mode": {
        "name": "ipython",
        "version": 3
      },
      "file_extension": ".py",
      "mimetype": "text/x-python",
      "name": "python",
      "nbconvert_exporter": "python",
      "pygments_lexer": "ipython3",
      "version": "3.12.4"
    },
    "varInspector": {
      "cols": {
        "lenName": 16,
        "lenType": 16,
        "lenVar": 40
      },
      "kernels_config": {
        "python": {
          "delete_cmd_postfix": "",
          "delete_cmd_prefix": "del ",
          "library": "var_list.py",
          "varRefreshCmd": "print(var_dic_list())"
        },
        "r": {
          "delete_cmd_postfix": ") ",
          "delete_cmd_prefix": "rm(",
          "library": "var_list.r",
          "varRefreshCmd": "cat(var_dic_list()) "
        }
      },
      "types_to_exclude": [
        "module",
        "function",
        "builtin_function_or_method",
        "instance",
        "_Feature"
      ],
      "window_display": false
    },
    "colab": {
      "provenance": [],
      "include_colab_link": true
    }
  },
  "nbformat": 4,
  "nbformat_minor": 0
}